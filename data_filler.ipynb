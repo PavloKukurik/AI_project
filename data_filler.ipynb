{
 "cells": [
  {
   "cell_type": "code",
   "execution_count": null,
   "metadata": {},
   "outputs": [],
   "source": [
    "%pip install git+https://github.com/PrithivirajDamodaran/Parrot_Paraphraser.git"
   ]
  },
  {
   "cell_type": "markdown",
   "metadata": {},
   "source": [
    "View or install data http://52.12.170.191:5000/"
   ]
  },
  {
   "cell_type": "code",
   "execution_count": 1,
   "metadata": {},
   "outputs": [],
   "source": [
    "import requests\n",
    "import pandas as pd\n",
    "from parrot import Parrot\n",
    "import torch\n",
    "import warnings\n",
    "warnings.filterwarnings(\"ignore\")"
   ]
  },
  {
   "cell_type": "code",
   "execution_count": null,
   "metadata": {},
   "outputs": [],
   "source": [
    "USE_GPU = True\n",
    "MAX_RETURN_PHRASES = 10"
   ]
  },
  {
   "cell_type": "markdown",
   "metadata": {},
   "source": [
    "Ваші межі для заповнення"
   ]
  },
  {
   "cell_type": "code",
   "execution_count": null,
   "metadata": {},
   "outputs": [],
   "source": [
    "START = 300000\n",
    "END = 400000"
   ]
  },
  {
   "cell_type": "code",
   "execution_count": 4,
   "metadata": {},
   "outputs": [
    {
     "name": "stderr",
     "output_type": "stream",
     "text": [
      "You are using the default legacy behaviour of the <class 'transformers.models.t5.tokenization_t5.T5Tokenizer'>. This is expected, and simply means that the `legacy` (previous) behavior will be used so nothing changes for you. If you want to use the new behaviour, set `legacy=False`. This should only be set if you understand what it means, and thoroughly read the reason why this was added as explained in https://github.com/huggingface/transformers/pull/24565\n"
     ]
    }
   ],
   "source": [
    "''' \n",
    "uncomment to get reproducable paraphrase generations\n",
    "def random_state(seed):\n",
    "  torch.manual_seed(seed)\n",
    "  if torch.cuda.is_available():\n",
    "    torch.cuda.manual_seed_all(seed)\n",
    "\n",
    "random_state(1234)\n",
    "'''\n",
    "\n",
    "parrot = Parrot(model_tag=\"prithivida/parrot_paraphraser_on_T5\", use_gpu=USE_GPU)"
   ]
  },
  {
   "cell_type": "code",
   "execution_count": null,
   "metadata": {},
   "outputs": [],
   "source": [
    "def generate_variants(text, emoji):\n",
    "    variants = parrot.augment(input_phrase=text, max_return_phrases=MAX_RETURN_PHRASES, use_gpu=USE_GPU)\n",
    "    if variants is None:\n",
    "        return\n",
    "    for variant in variants:\n",
    "        data = {\n",
    "            \"text\": variant[0],\n",
    "            \"emoji\": emoji\n",
    "            }\n",
    "        requests.post('http://52.12.170.191:5000/recieve/data', json=data)"
   ]
  },
  {
   "cell_type": "code",
   "execution_count": 6,
   "metadata": {},
   "outputs": [],
   "source": [
    "df = pd.read_csv(\"text2emoji.csv\")\n",
    "portion = df[START:END]"
   ]
  },
  {
   "cell_type": "code",
   "execution_count": 9,
   "metadata": {},
   "outputs": [
    {
     "data": {
      "text/html": [
       "<div>\n",
       "<style scoped>\n",
       "    .dataframe tbody tr th:only-of-type {\n",
       "        vertical-align: middle;\n",
       "    }\n",
       "\n",
       "    .dataframe tbody tr th {\n",
       "        vertical-align: top;\n",
       "    }\n",
       "\n",
       "    .dataframe thead th {\n",
       "        text-align: right;\n",
       "    }\n",
       "</style>\n",
       "<table border=\"1\" class=\"dataframe\">\n",
       "  <thead>\n",
       "    <tr style=\"text-align: right;\">\n",
       "      <th></th>\n",
       "      <th>Unnamed: 0</th>\n",
       "      <th>text</th>\n",
       "      <th>emoji</th>\n",
       "      <th>topic</th>\n",
       "    </tr>\n",
       "  </thead>\n",
       "  <tbody>\n",
       "    <tr>\n",
       "      <th>0</th>\n",
       "      <td>0</td>\n",
       "      <td>Being a nurse is a rollercoaster of emotions, ...</td>\n",
       "      <td>👩‍⚕️😷😢😄👥🏥🚑💔💉📋</td>\n",
       "      <td>career</td>\n",
       "    </tr>\n",
       "    <tr>\n",
       "      <th>1</th>\n",
       "      <td>1</td>\n",
       "      <td>Can't wait to finally see my best friend tomor...</td>\n",
       "      <td>👯‍♀️❤️😍✨👭</td>\n",
       "      <td>feeling</td>\n",
       "    </tr>\n",
       "    <tr>\n",
       "      <th>2</th>\n",
       "      <td>2</td>\n",
       "      <td>Pure bliss! Spend an entire day doing what you...</td>\n",
       "      <td>✨🕺🏻🎉💫💖🌸⚡😍💪🔥</td>\n",
       "      <td>feeling</td>\n",
       "    </tr>\n",
       "    <tr>\n",
       "      <th>3</th>\n",
       "      <td>3</td>\n",
       "      <td>Cruising along coastal highways in perfect har...</td>\n",
       "      <td>🏍🛣️🌊🗾📷🔄💞</td>\n",
       "      <td>vehicle</td>\n",
       "    </tr>\n",
       "    <tr>\n",
       "      <th>4</th>\n",
       "      <td>4</td>\n",
       "      <td>Feast your eyes on the colorful array of petal...</td>\n",
       "      <td>🎆💥🌸🌺🌼💐🌷🌈</td>\n",
       "      <td>plant</td>\n",
       "    </tr>\n",
       "    <tr>\n",
       "      <th>...</th>\n",
       "      <td>...</td>\n",
       "      <td>...</td>\n",
       "      <td>...</td>\n",
       "      <td>...</td>\n",
       "    </tr>\n",
       "    <tr>\n",
       "      <th>99995</th>\n",
       "      <td>99995</td>\n",
       "      <td>Denim jackets are a fashion staple that simply...</td>\n",
       "      <td>👖👕👍❤️🤩💯</td>\n",
       "      <td>clothes</td>\n",
       "    </tr>\n",
       "    <tr>\n",
       "      <th>99996</th>\n",
       "      <td>99996</td>\n",
       "      <td>There's something timeless about a crisp white...</td>\n",
       "      <td>👕⏳⚪🌟</td>\n",
       "      <td>clothes</td>\n",
       "    </tr>\n",
       "    <tr>\n",
       "      <th>99997</th>\n",
       "      <td>99997</td>\n",
       "      <td>Need a DIY fix? This multi-purpose screwdriver...</td>\n",
       "      <td>🔩🔨👷🏠🙂✨💪🌪️📏</td>\n",
       "      <td>tool</td>\n",
       "    </tr>\n",
       "    <tr>\n",
       "      <th>99998</th>\n",
       "      <td>99998</td>\n",
       "      <td>He likes to go fishing by the river.</td>\n",
       "      <td>🐟🎣🌊</td>\n",
       "      <td>activities</td>\n",
       "    </tr>\n",
       "    <tr>\n",
       "      <th>99999</th>\n",
       "      <td>99999</td>\n",
       "      <td>Roses are not only a symbol of love but also a...</td>\n",
       "      <td>🌹🌹❤️⚱️💕🧠🌹</td>\n",
       "      <td>plant</td>\n",
       "    </tr>\n",
       "  </tbody>\n",
       "</table>\n",
       "<p>100000 rows × 4 columns</p>\n",
       "</div>"
      ],
      "text/plain": [
       "       Unnamed: 0                                               text  \\\n",
       "0               0  Being a nurse is a rollercoaster of emotions, ...   \n",
       "1               1  Can't wait to finally see my best friend tomor...   \n",
       "2               2  Pure bliss! Spend an entire day doing what you...   \n",
       "3               3  Cruising along coastal highways in perfect har...   \n",
       "4               4  Feast your eyes on the colorful array of petal...   \n",
       "...           ...                                                ...   \n",
       "99995       99995  Denim jackets are a fashion staple that simply...   \n",
       "99996       99996  There's something timeless about a crisp white...   \n",
       "99997       99997  Need a DIY fix? This multi-purpose screwdriver...   \n",
       "99998       99998               He likes to go fishing by the river.   \n",
       "99999       99999  Roses are not only a symbol of love but also a...   \n",
       "\n",
       "               emoji       topic  \n",
       "0      👩‍⚕️😷😢😄👥🏥🚑💔💉📋      career  \n",
       "1          👯‍♀️❤️😍✨👭     feeling  \n",
       "2        ✨🕺🏻🎉💫💖🌸⚡😍💪🔥     feeling  \n",
       "3           🏍🛣️🌊🗾📷🔄💞     vehicle  \n",
       "4           🎆💥🌸🌺🌼💐🌷🌈       plant  \n",
       "...              ...         ...  \n",
       "99995        👖👕👍❤️🤩💯     clothes  \n",
       "99996           👕⏳⚪🌟     clothes  \n",
       "99997     🔩🔨👷🏠🙂✨💪🌪️📏        tool  \n",
       "99998            🐟🎣🌊  activities  \n",
       "99999      🌹🌹❤️⚱️💕🧠🌹       plant  \n",
       "\n",
       "[100000 rows x 4 columns]"
      ]
     },
     "execution_count": 9,
     "metadata": {},
     "output_type": "execute_result"
    }
   ],
   "source": [
    "portion"
   ]
  },
  {
   "cell_type": "code",
   "execution_count": null,
   "metadata": {},
   "outputs": [],
   "source": [
    "for index, row in portion.iterrows():\n",
    "    text, emoji = row['text'], row['emoji']\n",
    "    generate_variants(text, emoji)"
   ]
  }
 ],
 "metadata": {
  "kernelspec": {
   "display_name": "venv",
   "language": "python",
   "name": "python3"
  },
  "language_info": {
   "codemirror_mode": {
    "name": "ipython",
    "version": 3
   },
   "file_extension": ".py",
   "mimetype": "text/x-python",
   "name": "python",
   "nbconvert_exporter": "python",
   "pygments_lexer": "ipython3",
   "version": "3.12.2"
  }
 },
 "nbformat": 4,
 "nbformat_minor": 2
}
