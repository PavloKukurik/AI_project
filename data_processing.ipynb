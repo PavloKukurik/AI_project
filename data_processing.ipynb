{
 "cells": [
  {
   "cell_type": "code",
   "execution_count": 1,
   "id": "21eec6874068daa2",
   "metadata": {
    "collapsed": false,
    "ExecuteTime": {
     "end_time": "2024-10-31T13:23:01.713920900Z",
     "start_time": "2024-10-31T13:23:00.923563500Z"
    }
   },
   "outputs": [],
   "source": [
    "import pandas as pd"
   ]
  },
  {
   "cell_type": "code",
   "outputs": [],
   "source": [
    "# !pip install huggingface_hub\n",
    "# df = pd.read_csv(\"hf://datasets/KomeijiForce/Text2Emoji/text2emoji.csv\")\n",
    "# df"
   ],
   "metadata": {
    "collapsed": true,
    "ExecuteTime": {
     "end_time": "2024-10-31T13:23:01.728870800Z",
     "start_time": "2024-10-31T13:23:01.712923900Z"
    }
   },
   "id": "initial_id",
   "execution_count": 2
  },
  {
   "cell_type": "code",
   "outputs": [
    {
     "data": {
      "text/plain": "        Unnamed: 0                                               text  \\\n0                0  Being a nurse is a rollercoaster of emotions, ...   \n1                1  Can't wait to finally see my best friend tomor...   \n2                2  Pure bliss! Spend an entire day doing what you...   \n3                3  Cruising along coastal highways in perfect har...   \n4                4  Feast your eyes on the colorful array of petal...   \n...            ...                                                ...   \n503682      503682  A soft, knit hoodie will keep you nice and coz...   \n503683      503683  Enjoying the convenience of my robot vacuum cl...   \n503684      503684  For all the pasta lovers out there, every twir...   \n503685      503685  Succeeding requires extreme precision, skill, ...   \n503686      503686  Calling all food lovers! This country's cuisin...   \n\n                   emoji                  topic  \n0          👩‍⚕️😷😢😄👥🏥🚑💔💉📋                 career  \n1              👯‍♀️❤️😍✨👭                feeling  \n2            ✨🕺🏻🎉💫💖🌸⚡😍💪🔥                feeling  \n3               🏍🛣️🌊🗾📷🔄💞                vehicle  \n4               🎆💥🌸🌺🌼💐🌷🌈                  plant  \n...                  ...                    ...  \n503682             🧥🍁🍂❄️                clothes  \n503683             ⌛🔄🧀😎💪  electrical_appliances  \n503684            🍝❤️😍💫🌟                   food  \n503685  🎯⛳🧗🏻‍♂️🏌️‍♂️⛳🦅🦆🏆                 sports  \n503686         🍽️🌭🍣🥘🥖🍷🍨🌮                country  \n\n[503687 rows x 4 columns]",
      "text/html": "<div>\n<style scoped>\n    .dataframe tbody tr th:only-of-type {\n        vertical-align: middle;\n    }\n\n    .dataframe tbody tr th {\n        vertical-align: top;\n    }\n\n    .dataframe thead th {\n        text-align: right;\n    }\n</style>\n<table border=\"1\" class=\"dataframe\">\n  <thead>\n    <tr style=\"text-align: right;\">\n      <th></th>\n      <th>Unnamed: 0</th>\n      <th>text</th>\n      <th>emoji</th>\n      <th>topic</th>\n    </tr>\n  </thead>\n  <tbody>\n    <tr>\n      <th>0</th>\n      <td>0</td>\n      <td>Being a nurse is a rollercoaster of emotions, ...</td>\n      <td>👩‍⚕️😷😢😄👥🏥🚑💔💉📋</td>\n      <td>career</td>\n    </tr>\n    <tr>\n      <th>1</th>\n      <td>1</td>\n      <td>Can't wait to finally see my best friend tomor...</td>\n      <td>👯‍♀️❤️😍✨👭</td>\n      <td>feeling</td>\n    </tr>\n    <tr>\n      <th>2</th>\n      <td>2</td>\n      <td>Pure bliss! Spend an entire day doing what you...</td>\n      <td>✨🕺🏻🎉💫💖🌸⚡😍💪🔥</td>\n      <td>feeling</td>\n    </tr>\n    <tr>\n      <th>3</th>\n      <td>3</td>\n      <td>Cruising along coastal highways in perfect har...</td>\n      <td>🏍🛣️🌊🗾📷🔄💞</td>\n      <td>vehicle</td>\n    </tr>\n    <tr>\n      <th>4</th>\n      <td>4</td>\n      <td>Feast your eyes on the colorful array of petal...</td>\n      <td>🎆💥🌸🌺🌼💐🌷🌈</td>\n      <td>plant</td>\n    </tr>\n    <tr>\n      <th>...</th>\n      <td>...</td>\n      <td>...</td>\n      <td>...</td>\n      <td>...</td>\n    </tr>\n    <tr>\n      <th>503682</th>\n      <td>503682</td>\n      <td>A soft, knit hoodie will keep you nice and coz...</td>\n      <td>🧥🍁🍂❄️</td>\n      <td>clothes</td>\n    </tr>\n    <tr>\n      <th>503683</th>\n      <td>503683</td>\n      <td>Enjoying the convenience of my robot vacuum cl...</td>\n      <td>⌛🔄🧀😎💪</td>\n      <td>electrical_appliances</td>\n    </tr>\n    <tr>\n      <th>503684</th>\n      <td>503684</td>\n      <td>For all the pasta lovers out there, every twir...</td>\n      <td>🍝❤️😍💫🌟</td>\n      <td>food</td>\n    </tr>\n    <tr>\n      <th>503685</th>\n      <td>503685</td>\n      <td>Succeeding requires extreme precision, skill, ...</td>\n      <td>🎯⛳🧗🏻‍♂️🏌️‍♂️⛳🦅🦆🏆</td>\n      <td>sports</td>\n    </tr>\n    <tr>\n      <th>503686</th>\n      <td>503686</td>\n      <td>Calling all food lovers! This country's cuisin...</td>\n      <td>🍽️🌭🍣🥘🥖🍷🍨🌮</td>\n      <td>country</td>\n    </tr>\n  </tbody>\n</table>\n<p>503687 rows × 4 columns</p>\n</div>"
     },
     "execution_count": 3,
     "metadata": {},
     "output_type": "execute_result"
    }
   ],
   "source": [
    "df = pd.read_csv(\"text2emoji.csv\")\n",
    "df"
   ],
   "metadata": {
    "collapsed": false,
    "ExecuteTime": {
     "end_time": "2024-10-31T13:23:03.909577400Z",
     "start_time": "2024-10-31T13:23:01.731861600Z"
    }
   },
   "id": "22d15bf532822d52",
   "execution_count": 3
  }
 ],
 "metadata": {
  "kernelspec": {
   "display_name": "Python 3",
   "language": "python",
   "name": "python3"
  },
  "language_info": {
   "codemirror_mode": {
    "name": "ipython",
    "version": 2
   },
   "file_extension": ".py",
   "mimetype": "text/x-python",
   "name": "python",
   "nbconvert_exporter": "python",
   "pygments_lexer": "ipython2",
   "version": "2.7.6"
  }
 },
 "nbformat": 4,
 "nbformat_minor": 5
}
