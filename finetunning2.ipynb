{
  "cells": [
    {
      "cell_type": "markdown",
      "source": [
        "# Fine-Tuning"
      ],
      "metadata": {
        "collapsed": false,
        "id": "7058ee5a1c65ac5f"
      },
      "id": "7058ee5a1c65ac5f"
    },
    {
      "cell_type": "code",
      "outputs": [
        {
          "name": "stdout",
          "output_type": "stream",
          "text": [
            "[\"Mat's childhood took place in a little African village in south Botswana\", 'Conduct of the Persian Gulf War: Final Report to the Congress', 'It is even more striking that both EFhd2 and tau exhibit F-actin-bundling activity', 'Obesity leads to insulin resistance', 'The menstrual period']\n",
            "['where he was initiated to sacred dancings and musical habits of Congalaabawanaa.,🌍👦🏾🏝️🌍🎶🥁🕺🏾', 'Appendix C: Intelligence, April 1992. back to article 2.,🔍📚', 'that actin dynamics are altered in tauopathies and that EFhd2 was found in synapses [6,7].,😮\\u200d💨🔝🚶\\u200d♂️👀🔍🤍🦠🏼📏🔗🩺🏢🥱💫🛠🧬🔄🔬🍃😶\\u200d🌠🐇🔝🎑🔓📘', 'high blood pressure and ultimately to heart disease.,❤️🔺💔', \"a metaphor alluding to sexual-abstinence . ',🩸🔴😅🚫💑\"]\n"
          ]
        }
      ],
      "source": [
        "with open('data/gpt_translate_2.txt', 'r', encoding='utf-8') as f:\n",
        "    data = f.readlines()\n",
        "\n",
        "texts = []\n",
        "labels = []\n",
        "\n",
        "for line in data:\n",
        "    if ' ,' in line:\n",
        "        text, emoji = line.split(' ,', 1)\n",
        "        texts.append(text.strip())\n",
        "        labels.append(emoji.strip())\n",
        "\n",
        "print(texts[:5])\n",
        "print(labels[:5])\n"
      ],
      "metadata": {
        "ExecuteTime": {
          "end_time": "2024-12-18T15:15:28.282814800Z",
          "start_time": "2024-12-18T15:15:27.988163Z"
        },
        "id": "daffba80c60d5987",
        "outputId": "9d93b598-f84c-44bd-c984-41dc2114f843"
      },
      "id": "daffba80c60d5987",
      "execution_count": null
    },
    {
      "cell_type": "code",
      "outputs": [],
      "source": [
        "from transformers import BertTokenizer\n",
        "from sklearn.model_selection import train_test_split\n",
        "import torch\n",
        "from torch.utils.data import DataLoader, TensorDataset\n",
        "\n",
        "tokenizer = BertTokenizer.from_pretrained('bert-base-uncased')\n",
        "\n",
        "encoding = tokenizer(texts, truncation=True, padding=True, max_length=128)\n",
        "\n",
        "emoji_labels = list(set(labels))\n",
        "label_map = {emoji: idx for idx, emoji in enumerate(emoji_labels)}\n",
        "\n",
        "labels_numeric = [label_map[label] for label in labels]\n",
        "\n",
        "train_texts, val_texts, train_labels, val_labels = train_test_split(encoding['input_ids'], labels_numeric, test_size=0.2)\n",
        "\n",
        "train_inputs = torch.tensor(train_texts)\n",
        "val_inputs = torch.tensor(val_texts)\n",
        "train_labels = torch.tensor(train_labels)\n",
        "val_labels = torch.tensor(val_labels)\n",
        "\n",
        "train_data = TensorDataset(train_inputs, train_labels)\n",
        "val_data = TensorDataset(val_inputs, val_labels)\n",
        "\n",
        "train_dataloader = DataLoader(train_data, batch_size=16, shuffle=True)\n",
        "val_dataloader = DataLoader(val_data, batch_size=16)\n"
      ],
      "metadata": {
        "ExecuteTime": {
          "end_time": "2024-12-18T15:15:39.414101100Z",
          "start_time": "2024-12-18T15:15:28.222904300Z"
        },
        "id": "ca32616b1a2d80ed"
      },
      "id": "ca32616b1a2d80ed",
      "execution_count": null
    },
    {
      "cell_type": "code",
      "outputs": [],
      "source": [
        "from transformers import BertForSequenceClassification\n",
        "from torch.optim import AdamW\n",
        "\n",
        "model = BertForSequenceClassification.from_pretrained('bert-base-uncased', num_labels=len(label_map))\n",
        "\n",
        "optimizer = AdamW(model.parameters(), lr=1e-5)\n",
        "\n",
        "def train(model, train_dataloader):\n",
        "    model.train()\n",
        "    total_loss = 0\n",
        "    for batch in train_dataloader:\n",
        "        input_ids, labels = batch\n",
        "        optimizer.zero_grad()\n",
        "\n",
        "        outputs = model(input_ids, labels=labels)\n",
        "        loss = outputs.loss\n",
        "        loss.backward()\n",
        "\n",
        "        optimizer.step()\n",
        "        total_loss += loss.item()\n",
        "    print(f\"Training loss: {total_loss / len(train_dataloader)}\")\n",
        "\n",
        "for epoch in range(1):\n",
        "    print(f\"Epoch {epoch + 1}\")\n",
        "    train(model, train_dataloader)\n"
      ],
      "metadata": {
        "is_executing": true,
        "ExecuteTime": {
          "start_time": "2024-12-18T15:15:39.419105700Z"
        },
        "id": "7cb20ecf9ff75547"
      },
      "id": "7cb20ecf9ff75547",
      "execution_count": null
    },
    {
      "cell_type": "code",
      "outputs": [],
      "source": [
        "model.save_pretrained('path_to_save_model')\n",
        "tokenizer.save_pretrained('path_to_save_model')\n"
      ],
      "metadata": {
        "is_executing": true,
        "id": "f7b21cd15969f245"
      },
      "id": "f7b21cd15969f245",
      "execution_count": null
    },
    {
      "cell_type": "code",
      "outputs": [],
      "source": [
        "\n",
        "model = BertForSequenceClassification.from_pretrained('path_to_save_model')\n",
        "tokenizer = BertTokenizer.from_pretrained('path_to_save_model')\n",
        "\n",
        "inputs = tokenizer(\"Some text to predict\", return_tensors='pt')\n",
        "outputs = model(**inputs)\n",
        "\n",
        "predictions = outputs.logits.argmax(dim=-1)\n",
        "print(predictions)\n"
      ],
      "metadata": {
        "is_executing": true,
        "id": "356d47a43f354ddc"
      },
      "id": "356d47a43f354ddc",
      "execution_count": null
    },
    {
      "cell_type": "code",
      "outputs": [],
      "source": [],
      "metadata": {
        "is_executing": true,
        "id": "46eb955bd29f0959"
      },
      "id": "46eb955bd29f0959",
      "execution_count": null
    }
  ],
  "metadata": {
    "kernelspec": {
      "display_name": "Python 3",
      "language": "python",
      "name": "python3"
    },
    "language_info": {
      "codemirror_mode": {
        "name": "ipython",
        "version": 2
      },
      "file_extension": ".py",
      "mimetype": "text/x-python",
      "name": "python",
      "nbconvert_exporter": "python",
      "pygments_lexer": "ipython2",
      "version": "2.7.6"
    },
    "colab": {
      "provenance": []
    }
  },
  "nbformat": 4,
  "nbformat_minor": 5
}