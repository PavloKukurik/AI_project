{
 "cells": [
  {
   "cell_type": "code",
   "execution_count": 1,
   "id": "21eec6874068daa2",
   "metadata": {
    "ExecuteTime": {
     "end_time": "2024-10-31T13:23:01.713920900Z",
     "start_time": "2024-10-31T13:23:00.923563500Z"
    },
    "collapsed": false
   },
   "outputs": [],
   "source": [
    "from openai import OpenAI\n",
    "import os\n",
    "from dotenv import load_dotenv"
   ]
  },
  {
   "cell_type": "code",
   "execution_count": 2,
   "id": "22d15bf532822d52",
   "metadata": {
    "ExecuteTime": {
     "end_time": "2024-10-31T13:23:03.909577400Z",
     "start_time": "2024-10-31T13:23:01.731861600Z"
    },
    "collapsed": false
   },
   "outputs": [],
   "source": [
    "load_dotenv()\n",
    "\n",
    "os.environ[\"OPENAI_API_KEY\"] = os.getenv(\"GPT_TOKEN\")"
   ]
  },
  {
   "cell_type": "code",
   "execution_count": 3,
   "id": "06cded18",
   "metadata": {},
   "outputs": [],
   "source": [
    "client = OpenAI()"
   ]
  },
  {
   "cell_type": "code",
   "execution_count": 4,
   "id": "fa5e8455",
   "metadata": {},
   "outputs": [],
   "source": [
    "def text_to_emoji(sentence):\n",
    "    history = [\n",
    "        {\"role\":\"system\", \"content\":\"I am purly text to emoji model. I recieve on input text and give only emoji as output\"},\n",
    "        {\"role\":\"user\", \"content\": sentence}\n",
    "    ]\n",
    "    response = client.chat.completions.create(\n",
    "        model=\"gpt-3.5-turbo\",\n",
    "        messages=history\n",
    "    )\n",
    "    return response.choices[0].message.content"
   ]
  },
  {
   "cell_type": "code",
   "execution_count": null,
   "id": "c206b3a7",
   "metadata": {},
   "outputs": [
    {
     "name": "stdout",
     "output_type": "stream",
     "text": [
      "[\"However, a neighbour can complain to local authority about your hedge, if its height 'reduces the amenity value' of their garden, by reducing light to windows (not an issue, the gardens are too long) or denying them winter sunshine.\", 'The experiments ended in 1965.', 'The systems technology and operation is fantastic, it will have a huge impact on water conservation.', 'The two countries are locked in a dispute over U.S. allegations that China steals U.S. technology and forces U.S. companies to share trade secrets in exchange for access to the Chinese market.', 'Should You Be a CSP?', 'Our mission is to send a message to kids everywhere about the importance of staying in school and loving it!', 'Creating a memory with loved ones?', 'Children are killed and disfigured on our roads every day, and every day we fail to stop the slaughter.', 'In the countryside of Ghana, in Ecuador, and in the Philippine Islands, countless people bring the produce of their farms and their handicrafts to a town to sell.', 'The most frequent (≥ 1%) adverse reactions that led to permanent discontinuation in monotherapy studies were infection, haemorrhage, multi-organ failure, and VOD.']\n"
     ]
    }
   ],
   "source": [
    "lines = 10\n",
    "with open(\"./data/relevant_data.txt\", 'r', encoding='utf-8') as file:\n",
    "    content = [file.readline().strip() for _ in range(lines)]\n",
    "print(content)"
   ]
  },
  {
   "cell_type": "code",
   "execution_count": null,
   "id": "f23fd1ab",
   "metadata": {},
   "outputs": [
    {
     "name": "stdout",
     "output_type": "stream",
     "text": [
      "It is a set of false teeth rigidly attached between two crowns.\n",
      "\n"
     ]
    }
   ],
   "source": [
    "\n",
    "portion = \"\"\n",
    "inx = 0\n",
    "start = 51620\n",
    "end = 100000\n",
    "try:\n",
    "    with open(\"./data/relevant_data.txt\", 'r', encoding='utf-8') as file:\n",
    "        for sentence in file:\n",
    "            if inx != start:\n",
    "                inx+=1\n",
    "                continue\n",
    "            emoji = text_to_emoji(sentence)\n",
    "            sentence = sentence.rstrip('\\\\\\\\n')\n",
    "            line = f\"{sentence},{emoji}\\n\"\n",
    "            portion += line\n",
    "            inx += 1\n",
    "            if inx % 1000 == 0:\n",
    "                with open(\"./data/gpt_translate_1.txt\", \"a\", encoding='utf-8') as file:\n",
    "                    file.write(portion)\n",
    "                portion = \"\"\n",
    "            if inx == end:\n",
    "                break\n",
    "except Exception as err:\n",
    "    print(err)\n",
    "with open(\"./data/gpt_translate.txt\", \"a\", encoding='utf-8') as file:\n",
    "    file.write(portion)\n",
    "print(inx)"
   ]
  },
  {
   "cell_type": "code",
   "execution_count": 8,
   "id": "9564d490",
   "metadata": {},
   "outputs": [
    {
     "name": "stdout",
     "output_type": "stream",
     "text": [
      "51620\n"
     ]
    }
   ],
   "source": [
    "with open(\"./data/gpt_translate.txt\", \"a\", encoding='utf-8') as file:\n",
    "    file.write(portion)\n",
    "print(inx)"
   ]
  },
  {
   "cell_type": "code",
   "execution_count": 19,
   "id": "c64082bd",
   "metadata": {},
   "outputs": [
    {
     "name": "stdout",
     "output_type": "stream",
     "text": [
      "However, a neighbour can complain to local authority about your hedge, if its height 'reduces the amenity value' of their garden, by reducing light to windows (not an issue, the gardens are too long) or denying them winter sunshine. - 🏡🌳🔈👥⚠️🌿🌞\n",
      "The experiments ended in 1965. - 🧪🔚🔢🔙\n",
      "The systems technology and operation is fantastic, it will have a huge impact on water conservation. - 💻🔬🌊🌍\n",
      "The two countries are locked in a dispute over U.S. allegations that China steals U.S. technology and forces U.S. companies to share trade secrets in exchange for access to the Chinese market. - 🌏🤝🔒🇺🇸🤝🇨🇳💼💻🔓🔍🇨🇳🔥🔙🇺🇸🛡💼🔓💡💻💰🔁🇨🇳🏪🏹\n",
      "Should You Be a CSP? - 🤔\n",
      "Our mission is to send a message to kids everywhere about the importance of staying in school and loving it! - 🚀📚❤️🏫\n",
      "Creating a memory with loved ones? - ❤️👨‍👩‍👧‍👦🌟📸🎉🥰\n",
      "Children are killed and disfigured on our roads every day, and every day we fail to stop the slaughter. - 😢🛣️🚸🛑\n",
      "In the countryside of Ghana, in Ecuador, and in the Philippine Islands, countless people bring the produce of their farms and their handicrafts to a town to sell. - 🏞️🇬🇭🇪🇨🇵🇭👨‍🌾🏪🌾🛒\n",
      "The most frequent (≥ 1%) adverse reactions that led to permanent discontinuation in monotherapy studies were infection, haemorrhage, multi-organ failure, and VOD. - 🦠🩸🩺🔄\n"
     ]
    }
   ],
   "source": [
    "for sentence in content:\n",
    "    emoji = text_to_emoji(sentence)\n",
    "    print(f\"{sentence} - {emoji}\")"
   ]
  },
  {
   "cell_type": "code",
   "execution_count": 8,
   "id": "678ae628",
   "metadata": {},
   "outputs": [],
   "source": [
    "def is_emoji(s):\n",
    "    # Get the list of detected emojis in the string\n",
    "    detected_emojis = emoji.emoji_list(s)\n",
    "    # Join the detected emojis into a single string\n",
    "    reconstructed_emoji_string = ''.join(e['emoji'] for e in detected_emojis)\n",
    "    # Check if the input string is entirely made of emojis\n",
    "    return s == reconstructed_emoji_string"
   ]
  },
  {
   "cell_type": "code",
   "execution_count": 9,
   "id": "a16756ce",
   "metadata": {},
   "outputs": [
    {
     "name": "stdout",
     "output_type": "stream",
     "text": [
      "True\n"
     ]
    }
   ],
   "source": [
    "print(is_emoji(\"🚗🚦◾🔄👀🔒🚶‍♂️🛑\"))"
   ]
  },
  {
   "cell_type": "code",
   "execution_count": 13,
   "id": "04832d8f",
   "metadata": {},
   "outputs": [],
   "source": [
    "inx = 0\n",
    "\n",
    "with open(\"./data/gpt_translate.txt\", \"r\", encoding='utf-8') as file_r:\n",
    "    with open(\"./data/gpt_translate_fix.txt\", \"w\", encoding = 'utf-8') as file:\n",
    "        while True:\n",
    "            line1 = file_r.readline()\n",
    "            if line1 == \"\\n\":\n",
    "                continue\n",
    "            if len(line1) > 0 and not line1[0].isalpha():\n",
    "                continue\n",
    "            line2 = file_r.readline()\n",
    "            if not line1 and not line2:\n",
    "                break\n",
    "            new_line = f'{line1.strip()}{line2}'\n",
    "            file.write(new_line)\n",
    "            "
   ]
  }
 ],
 "metadata": {
  "kernelspec": {
   "display_name": "Python 3",
   "language": "python",
   "name": "python3"
  },
  "language_info": {
   "codemirror_mode": {
    "name": "ipython",
    "version": 3
   },
   "file_extension": ".py",
   "mimetype": "text/x-python",
   "name": "python",
   "nbconvert_exporter": "python",
   "pygments_lexer": "ipython3",
   "version": "3.10.12"
  }
 },
 "nbformat": 4,
 "nbformat_minor": 5
}
