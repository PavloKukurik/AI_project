{
 "cells": [
  {
   "cell_type": "code",
   "execution_count": 1,
   "metadata": {},
   "outputs": [
    {
     "name": "stdout",
     "output_type": "stream",
     "text": [
      "Defaulting to user installation because normal site-packages is not writeable\n",
      "Collecting git+https://github.com/PrithivirajDamodaran/Parrot_Paraphraser.git\n",
      "  Cloning https://github.com/PrithivirajDamodaran/Parrot_Paraphraser.git to /tmp/pip-req-build-t7b_rvmi\n",
      "  Running command git clone --filter=blob:none --quiet https://github.com/PrithivirajDamodaran/Parrot_Paraphraser.git /tmp/pip-req-build-t7b_rvmi\n",
      "  Resolved https://github.com/PrithivirajDamodaran/Parrot_Paraphraser.git to commit 03084c54b64019ba5fa0b620b9c70ad81123e458\n",
      "  Preparing metadata (setup.py) ... \u001b[?25ldone\n",
      "\u001b[?25hCollecting fuzzywuzzy\n",
      "  Downloading fuzzywuzzy-0.18.0-py2.py3-none-any.whl (18 kB)\n",
      "Collecting python-Levenshtein\n",
      "  Downloading python_Levenshtein-0.26.1-py3-none-any.whl (9.4 kB)\n",
      "Collecting sentence-transformers\n",
      "  Downloading sentence_transformers-3.3.0-py3-none-any.whl (268 kB)\n",
      "\u001b[2K     \u001b[90m━━━━━━━━━━━━━━━━━━━━━━━━━━━━━━━━━━━━━━━\u001b[0m \u001b[32m268.7/268.7 KB\u001b[0m \u001b[31m2.3 MB/s\u001b[0m eta \u001b[36m0:00:00\u001b[0ma \u001b[36m0:00:01\u001b[0m\n",
      "\u001b[?25hCollecting sentencepiece\n",
      "  Downloading sentencepiece-0.2.0-cp310-cp310-manylinux_2_17_x86_64.manylinux2014_x86_64.whl (1.3 MB)\n",
      "\u001b[2K     \u001b[90m━━━━━━━━━━━━━━━━━━━━━━━━━━━━━━━━━━━━━━━━\u001b[0m \u001b[32m1.3/1.3 MB\u001b[0m \u001b[31m4.6 MB/s\u001b[0m eta \u001b[36m0:00:00\u001b[0m00:01\u001b[0m00:01\u001b[0m\n",
      "\u001b[?25hRequirement already satisfied: transformers in /home/compicraft/.local/lib/python3.10/site-packages (from parrot==1.0) (4.45.1)\n",
      "Collecting Levenshtein==0.26.1\n",
      "  Downloading levenshtein-0.26.1-cp310-cp310-manylinux_2_17_x86_64.manylinux2014_x86_64.whl (162 kB)\n",
      "\u001b[2K     \u001b[90m━━━━━━━━━━━━━━━━━━━━━━━━━━━━━━━━━━━━━━━\u001b[0m \u001b[32m162.6/162.6 KB\u001b[0m \u001b[31m7.5 MB/s\u001b[0m eta \u001b[36m0:00:00\u001b[0m\n",
      "\u001b[?25hCollecting rapidfuzz<4.0.0,>=3.9.0\n",
      "  Downloading rapidfuzz-3.10.1-cp310-cp310-manylinux_2_17_x86_64.manylinux2014_x86_64.whl (3.1 MB)\n",
      "\u001b[2K     \u001b[90m━━━━━━━━━━━━━━━━━━━━━━━━━━━━━━━━━━━━━━━━\u001b[0m \u001b[32m3.1/3.1 MB\u001b[0m \u001b[31m5.2 MB/s\u001b[0m eta \u001b[36m0:00:00\u001b[0m00:01\u001b[0m00:01\u001b[0m\n",
      "\u001b[?25hRequirement already satisfied: torch>=1.11.0 in /home/compicraft/.local/lib/python3.10/site-packages (from sentence-transformers->parrot==1.0) (2.4.1)\n",
      "Requirement already satisfied: huggingface-hub>=0.20.0 in /home/compicraft/.local/lib/python3.10/site-packages (from sentence-transformers->parrot==1.0) (0.25.1)\n",
      "Requirement already satisfied: scipy in /home/compicraft/.local/lib/python3.10/site-packages (from sentence-transformers->parrot==1.0) (1.11.4)\n",
      "Requirement already satisfied: scikit-learn in /home/compicraft/.local/lib/python3.10/site-packages (from sentence-transformers->parrot==1.0) (1.5.2)\n",
      "Requirement already satisfied: tqdm in /home/compicraft/.local/lib/python3.10/site-packages (from sentence-transformers->parrot==1.0) (4.67.0)\n",
      "Requirement already satisfied: Pillow in /home/compicraft/.local/lib/python3.10/site-packages (from sentence-transformers->parrot==1.0) (9.5.0)\n",
      "Requirement already satisfied: safetensors>=0.4.1 in /home/compicraft/.local/lib/python3.10/site-packages (from transformers->parrot==1.0) (0.4.5)\n",
      "Requirement already satisfied: numpy>=1.17 in /home/compicraft/.local/lib/python3.10/site-packages (from transformers->parrot==1.0) (1.26.4)\n",
      "Requirement already satisfied: regex!=2019.12.17 in /home/compicraft/.local/lib/python3.10/site-packages (from transformers->parrot==1.0) (2024.9.11)\n",
      "Requirement already satisfied: requests in /home/compicraft/.local/lib/python3.10/site-packages (from transformers->parrot==1.0) (2.32.3)\n",
      "Requirement already satisfied: tokenizers<0.21,>=0.20 in /home/compicraft/.local/lib/python3.10/site-packages (from transformers->parrot==1.0) (0.20.0)\n",
      "Requirement already satisfied: packaging>=20.0 in /home/compicraft/.local/lib/python3.10/site-packages (from transformers->parrot==1.0) (23.1)\n",
      "Requirement already satisfied: filelock in /home/compicraft/.local/lib/python3.10/site-packages (from transformers->parrot==1.0) (3.12.2)\n",
      "Requirement already satisfied: pyyaml>=5.1 in /home/compicraft/.local/lib/python3.10/site-packages (from transformers->parrot==1.0) (6.0.2)\n",
      "Requirement already satisfied: typing-extensions>=3.7.4.3 in /home/compicraft/.local/lib/python3.10/site-packages (from huggingface-hub>=0.20.0->sentence-transformers->parrot==1.0) (4.12.2)\n",
      "Requirement already satisfied: fsspec>=2023.5.0 in /home/compicraft/.local/lib/python3.10/site-packages (from huggingface-hub>=0.20.0->sentence-transformers->parrot==1.0) (2024.9.0)\n",
      "Requirement already satisfied: nvidia-cusolver-cu12==11.4.5.107 in /home/compicraft/.local/lib/python3.10/site-packages (from torch>=1.11.0->sentence-transformers->parrot==1.0) (11.4.5.107)\n",
      "Requirement already satisfied: nvidia-cuda-nvrtc-cu12==12.1.105 in /home/compicraft/.local/lib/python3.10/site-packages (from torch>=1.11.0->sentence-transformers->parrot==1.0) (12.1.105)\n",
      "Requirement already satisfied: nvidia-cublas-cu12==12.1.3.1 in /home/compicraft/.local/lib/python3.10/site-packages (from torch>=1.11.0->sentence-transformers->parrot==1.0) (12.1.3.1)\n",
      "Requirement already satisfied: triton==3.0.0 in /home/compicraft/.local/lib/python3.10/site-packages (from torch>=1.11.0->sentence-transformers->parrot==1.0) (3.0.0)\n",
      "Requirement already satisfied: sympy in /home/compicraft/.local/lib/python3.10/site-packages (from torch>=1.11.0->sentence-transformers->parrot==1.0) (1.12)\n",
      "Requirement already satisfied: jinja2 in /home/compicraft/.local/lib/python3.10/site-packages (from torch>=1.11.0->sentence-transformers->parrot==1.0) (3.1.2)\n",
      "Requirement already satisfied: nvidia-cusparse-cu12==12.1.0.106 in /home/compicraft/.local/lib/python3.10/site-packages (from torch>=1.11.0->sentence-transformers->parrot==1.0) (12.1.0.106)\n",
      "Requirement already satisfied: nvidia-cuda-runtime-cu12==12.1.105 in /home/compicraft/.local/lib/python3.10/site-packages (from torch>=1.11.0->sentence-transformers->parrot==1.0) (12.1.105)\n",
      "Requirement already satisfied: nvidia-cufft-cu12==11.0.2.54 in /home/compicraft/.local/lib/python3.10/site-packages (from torch>=1.11.0->sentence-transformers->parrot==1.0) (11.0.2.54)\n",
      "Requirement already satisfied: nvidia-nccl-cu12==2.20.5 in /home/compicraft/.local/lib/python3.10/site-packages (from torch>=1.11.0->sentence-transformers->parrot==1.0) (2.20.5)\n",
      "Requirement already satisfied: nvidia-nvtx-cu12==12.1.105 in /home/compicraft/.local/lib/python3.10/site-packages (from torch>=1.11.0->sentence-transformers->parrot==1.0) (12.1.105)\n",
      "Requirement already satisfied: networkx in /home/compicraft/.local/lib/python3.10/site-packages (from torch>=1.11.0->sentence-transformers->parrot==1.0) (2.8.8)\n",
      "Requirement already satisfied: nvidia-cuda-cupti-cu12==12.1.105 in /home/compicraft/.local/lib/python3.10/site-packages (from torch>=1.11.0->sentence-transformers->parrot==1.0) (12.1.105)\n",
      "Requirement already satisfied: nvidia-cudnn-cu12==9.1.0.70 in /home/compicraft/.local/lib/python3.10/site-packages (from torch>=1.11.0->sentence-transformers->parrot==1.0) (9.1.0.70)\n",
      "Requirement already satisfied: nvidia-curand-cu12==10.3.2.106 in /home/compicraft/.local/lib/python3.10/site-packages (from torch>=1.11.0->sentence-transformers->parrot==1.0) (10.3.2.106)\n",
      "Requirement already satisfied: nvidia-nvjitlink-cu12 in /home/compicraft/.local/lib/python3.10/site-packages (from nvidia-cusolver-cu12==11.4.5.107->torch>=1.11.0->sentence-transformers->parrot==1.0) (12.6.68)\n",
      "Requirement already satisfied: urllib3<3,>=1.21.1 in /home/compicraft/.local/lib/python3.10/site-packages (from requests->transformers->parrot==1.0) (1.26.18)\n",
      "Requirement already satisfied: idna<4,>=2.5 in /home/compicraft/.local/lib/python3.10/site-packages (from requests->transformers->parrot==1.0) (3.6)\n",
      "Requirement already satisfied: certifi>=2017.4.17 in /home/compicraft/.local/lib/python3.10/site-packages (from requests->transformers->parrot==1.0) (2024.2.2)\n",
      "Requirement already satisfied: charset-normalizer<4,>=2 in /home/compicraft/.local/lib/python3.10/site-packages (from requests->transformers->parrot==1.0) (3.3.2)\n",
      "Requirement already satisfied: joblib>=1.2.0 in /home/compicraft/.local/lib/python3.10/site-packages (from scikit-learn->sentence-transformers->parrot==1.0) (1.2.0)\n",
      "Requirement already satisfied: threadpoolctl>=3.1.0 in /home/compicraft/.local/lib/python3.10/site-packages (from scikit-learn->sentence-transformers->parrot==1.0) (3.1.0)\n",
      "Requirement already satisfied: MarkupSafe>=2.0 in /home/compicraft/.local/lib/python3.10/site-packages (from jinja2->torch>=1.11.0->sentence-transformers->parrot==1.0) (2.1.3)\n",
      "Requirement already satisfied: mpmath>=0.19 in /home/compicraft/.local/lib/python3.10/site-packages (from sympy->torch>=1.11.0->sentence-transformers->parrot==1.0) (1.3.0)\n",
      "Building wheels for collected packages: parrot\n",
      "  Building wheel for parrot (setup.py) ... \u001b[?25ldone\n",
      "\u001b[?25h  Created wheel for parrot: filename=parrot-1.0-py3-none-any.whl size=8608 sha256=598d7940b7755a760f2a2c8445be0fa6e9b23396db2034fdf0b834028b4c0e12\n",
      "  Stored in directory: /tmp/pip-ephem-wheel-cache-zen67qf2/wheels/e8/ee/2a/4d6a4b2a5c37f5f750e90fa79d2ad84f444fba9b050ecbbe6d\n",
      "Successfully built parrot\n",
      "Installing collected packages: sentencepiece, fuzzywuzzy, rapidfuzz, Levenshtein, python-Levenshtein, sentence-transformers, parrot\n",
      "Successfully installed Levenshtein-0.26.1 fuzzywuzzy-0.18.0 parrot-1.0 python-Levenshtein-0.26.1 rapidfuzz-3.10.1 sentence-transformers-3.3.0 sentencepiece-0.2.0\n",
      "Note: you may need to restart the kernel to use updated packages.\n"
     ]
    }
   ],
   "source": [
    "%pip install git+https://github.com/PrithivirajDamodaran/Parrot_Paraphraser.git"
   ]
  },
  {
   "cell_type": "markdown",
   "metadata": {},
   "source": [
    "View or install data http://52.12.170.191:5000/"
   ]
  },
  {
   "cell_type": "code",
   "execution_count": 2,
   "metadata": {},
   "outputs": [],
   "source": [
    "import requests\n",
    "import pandas as pd\n",
    "from parrot import Parrot\n",
    "import torch\n",
    "import warnings\n",
    "warnings.filterwarnings(\"ignore\")"
   ]
  },
  {
   "cell_type": "code",
   "execution_count": null,
   "metadata": {},
   "outputs": [],
   "source": [
    "USE_GPU = True\n",
    "MAX_RETURN_PHRASES = 3"
   ]
  },
  {
   "cell_type": "markdown",
   "metadata": {},
   "source": [
    "Ваші межі для заповнення"
   ]
  },
  {
   "cell_type": "code",
   "execution_count": null,
   "metadata": {},
   "outputs": [],
   "source": [
    "START = 0\n",
    "END = 10000"
   ]
  },
  {
   "cell_type": "code",
   "execution_count": 6,
   "metadata": {},
   "outputs": [],
   "source": [
    "''' \n",
    "uncomment to get reproducable paraphrase generations\n",
    "def random_state(seed):\n",
    "  torch.manual_seed(seed)\n",
    "  if torch.cuda.is_available():\n",
    "    torch.cuda.manual_seed_all(seed)\n",
    "\n",
    "random_state(1234)\n",
    "'''\n",
    "\n",
    "parrot = Parrot(model_tag=\"prithivida/parrot_paraphraser_on_T5\", use_gpu=USE_GPU)"
   ]
  },
  {
   "cell_type": "code",
   "execution_count": null,
   "metadata": {},
   "outputs": [],
   "source": [
    "def generate_variants(text, emoji):\n",
    "    variants = parrot.augment(input_phrase=text, max_return_phrases=MAX_RETURN_PHRASES, use_gpu=USE_GPU)\n",
    "    if variants is None:\n",
    "        return\n",
    "    for variant in variants:\n",
    "        if variant is None:\n",
    "            continue\n",
    "        data = {\n",
    "            \"text\": variant[0],\n",
    "            \"emoji\": emoji\n",
    "            }\n",
    "        requests.post('http://52.12.170.191:5000/recieve/data', json=data)"
   ]
  },
  {
   "cell_type": "code",
   "execution_count": null,
   "metadata": {},
   "outputs": [],
   "source": [
    "df = pd.read_csv(\"./data/text2emoji.csv\")\n",
    "portion = df[START:END]"
   ]
  },
  {
   "cell_type": "code",
   "execution_count": 9,
   "metadata": {},
   "outputs": [
    {
     "data": {
      "text/html": [
       "<div>\n",
       "<style scoped>\n",
       "    .dataframe tbody tr th:only-of-type {\n",
       "        vertical-align: middle;\n",
       "    }\n",
       "\n",
       "    .dataframe tbody tr th {\n",
       "        vertical-align: top;\n",
       "    }\n",
       "\n",
       "    .dataframe thead th {\n",
       "        text-align: right;\n",
       "    }\n",
       "</style>\n",
       "<table border=\"1\" class=\"dataframe\">\n",
       "  <thead>\n",
       "    <tr style=\"text-align: right;\">\n",
       "      <th></th>\n",
       "      <th>Unnamed: 0</th>\n",
       "      <th>text</th>\n",
       "      <th>emoji</th>\n",
       "      <th>topic</th>\n",
       "    </tr>\n",
       "  </thead>\n",
       "  <tbody>\n",
       "    <tr>\n",
       "      <th>300000</th>\n",
       "      <td>300000</td>\n",
       "      <td>\"Looking for the perfect wrench? Look no furth...</td>\n",
       "      <td>🔧💪🤜🤛🏋️‍♂️💯</td>\n",
       "      <td>tool</td>\n",
       "    </tr>\n",
       "    <tr>\n",
       "      <th>300001</th>\n",
       "      <td>300001</td>\n",
       "      <td>These high-waisted jeans are a game-changer.</td>\n",
       "      <td>🙌🛍️🌟👖</td>\n",
       "      <td>clothes</td>\n",
       "    </tr>\n",
       "    <tr>\n",
       "      <th>300002</th>\n",
       "      <td>300002</td>\n",
       "      <td>Slow is enchanting. Discover the everlasting b...</td>\n",
       "      <td>🌒💫🌵🌾✨🌕🌿🕊️🌵💚</td>\n",
       "      <td>plant</td>\n",
       "    </tr>\n",
       "    <tr>\n",
       "      <th>300003</th>\n",
       "      <td>300003</td>\n",
       "      <td>Today was a rough day, I just need some hugs.</td>\n",
       "      <td>😔👉👥🤗💕</td>\n",
       "      <td>feeling</td>\n",
       "    </tr>\n",
       "    <tr>\n",
       "      <th>300004</th>\n",
       "      <td>300004</td>\n",
       "      <td>Gothic art is filled with dark themes, mystery...</td>\n",
       "      <td>👻🗝️🖤💉🏰🔮🖌️💀🕸️</td>\n",
       "      <td>art</td>\n",
       "    </tr>\n",
       "    <tr>\n",
       "      <th>...</th>\n",
       "      <td>...</td>\n",
       "      <td>...</td>\n",
       "      <td>...</td>\n",
       "      <td>...</td>\n",
       "    </tr>\n",
       "    <tr>\n",
       "      <th>399995</th>\n",
       "      <td>399995</td>\n",
       "      <td>Pasta enthusiast alert! Creamy, heavenly plate...</td>\n",
       "      <td>🍝🧄🥛😍</td>\n",
       "      <td>food</td>\n",
       "    </tr>\n",
       "    <tr>\n",
       "      <th>399996</th>\n",
       "      <td>399996</td>\n",
       "      <td>\"Just got back from an intense cardio workout \"</td>\n",
       "      <td>🔥💪😅</td>\n",
       "      <td>activities</td>\n",
       "    </tr>\n",
       "    <tr>\n",
       "      <th>399997</th>\n",
       "      <td>399997</td>\n",
       "      <td>Driving my sporty convertible with the top dow...</td>\n",
       "      <td>🚗💨🌞🕶️</td>\n",
       "      <td>vehicle</td>\n",
       "    </tr>\n",
       "    <tr>\n",
       "      <th>399998</th>\n",
       "      <td>399998</td>\n",
       "      <td>\"Grief is a tender ache in your heart, rooting...</td>\n",
       "      <td>😢💔🌱</td>\n",
       "      <td>feeling</td>\n",
       "    </tr>\n",
       "    <tr>\n",
       "      <th>399999</th>\n",
       "      <td>399999</td>\n",
       "      <td>BBQ season is here! Time to fire up the grill ...</td>\n",
       "      <td>🍔🔥🌭💃🌞😋</td>\n",
       "      <td>food</td>\n",
       "    </tr>\n",
       "  </tbody>\n",
       "</table>\n",
       "<p>100000 rows × 4 columns</p>\n",
       "</div>"
      ],
      "text/plain": [
       "        Unnamed: 0                                               text  \\\n",
       "300000      300000  \"Looking for the perfect wrench? Look no furth...   \n",
       "300001      300001       These high-waisted jeans are a game-changer.   \n",
       "300002      300002  Slow is enchanting. Discover the everlasting b...   \n",
       "300003      300003      Today was a rough day, I just need some hugs.   \n",
       "300004      300004  Gothic art is filled with dark themes, mystery...   \n",
       "...            ...                                                ...   \n",
       "399995      399995  Pasta enthusiast alert! Creamy, heavenly plate...   \n",
       "399996      399996    \"Just got back from an intense cardio workout \"   \n",
       "399997      399997  Driving my sporty convertible with the top dow...   \n",
       "399998      399998  \"Grief is a tender ache in your heart, rooting...   \n",
       "399999      399999  BBQ season is here! Time to fire up the grill ...   \n",
       "\n",
       "               emoji       topic  \n",
       "300000    🔧💪🤜🤛🏋️‍♂️💯        tool  \n",
       "300001         🙌🛍️🌟👖     clothes  \n",
       "300002   🌒💫🌵🌾✨🌕🌿🕊️🌵💚       plant  \n",
       "300003         😔👉👥🤗💕     feeling  \n",
       "300004  👻🗝️🖤💉🏰🔮🖌️💀🕸️         art  \n",
       "...              ...         ...  \n",
       "399995          🍝🧄🥛😍        food  \n",
       "399996           🔥💪😅  activities  \n",
       "399997         🚗💨🌞🕶️     vehicle  \n",
       "399998           😢💔🌱     feeling  \n",
       "399999        🍔🔥🌭💃🌞😋        food  \n",
       "\n",
       "[100000 rows x 4 columns]"
      ]
     },
     "execution_count": 9,
     "metadata": {},
     "output_type": "execute_result"
    }
   ],
   "source": [
    "portion"
   ]
  },
  {
   "cell_type": "code",
   "execution_count": null,
   "metadata": {},
   "outputs": [],
   "source": [
    "for index, row in portion.iterrows():\n",
    "    text, emoji = row['text'], row['emoji']\n",
    "    try:\n",
    "        generate_variants(text, emoji)\n",
    "    except Exception:\n",
    "        continue"
   ]
  },
  {
   "cell_type": "code",
   "execution_count": 13,
   "metadata": {},
   "outputs": [
    {
     "name": "stdout",
     "output_type": "stream",
     "text": [
      "300264\n"
     ]
    }
   ],
   "source": [
    "print(index)"
   ]
  }
 ],
 "metadata": {
  "kernelspec": {
   "display_name": "Python 3",
   "language": "python",
   "name": "python3"
  },
  "language_info": {
   "codemirror_mode": {
    "name": "ipython",
    "version": 3
   },
   "file_extension": ".py",
   "mimetype": "text/x-python",
   "name": "python",
   "nbconvert_exporter": "python",
   "pygments_lexer": "ipython3",
   "version": "3.10.12"
  }
 },
 "nbformat": 4,
 "nbformat_minor": 2
}
