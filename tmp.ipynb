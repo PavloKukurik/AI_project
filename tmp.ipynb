{
 "cells": [
  {
   "cell_type": "code",
   "execution_count": 2,
   "metadata": {},
   "outputs": [],
   "source": [
    "import pandas as pd\n",
    "\n",
    "df = pd.read_csv('text2emoji.csv')"
   ]
  },
  {
   "cell_type": "code",
   "execution_count": 11,
   "metadata": {},
   "outputs": [
    {
     "data": {
      "text/html": [
       "<div>\n",
       "<style scoped>\n",
       "    .dataframe tbody tr th:only-of-type {\n",
       "        vertical-align: middle;\n",
       "    }\n",
       "\n",
       "    .dataframe tbody tr th {\n",
       "        vertical-align: top;\n",
       "    }\n",
       "\n",
       "    .dataframe thead th {\n",
       "        text-align: right;\n",
       "    }\n",
       "</style>\n",
       "<table border=\"1\" class=\"dataframe\">\n",
       "  <thead>\n",
       "    <tr style=\"text-align: right;\">\n",
       "      <th></th>\n",
       "      <th>Unnamed: 0</th>\n",
       "      <th>text</th>\n",
       "      <th>emoji</th>\n",
       "      <th>topic</th>\n",
       "    </tr>\n",
       "  </thead>\n",
       "  <tbody>\n",
       "    <tr>\n",
       "      <th>1600</th>\n",
       "      <td>1600</td>\n",
       "      <td>Off-roading with my Jeep is the ultimate adren...</td>\n",
       "      <td>🌄🚙🏃💨🕹️🌵</td>\n",
       "      <td>vehicle</td>\n",
       "    </tr>\n",
       "    <tr>\n",
       "      <th>1601</th>\n",
       "      <td>1601</td>\n",
       "      <td>The charming little daisy symbolizes youth, in...</td>\n",
       "      <td>🌼🌿🌟⁉️🧒🕊️💗💦</td>\n",
       "      <td>plant</td>\n",
       "    </tr>\n",
       "    <tr>\n",
       "      <th>1602</th>\n",
       "      <td>1602</td>\n",
       "      <td>Nothing makes me happier than dancing to my fa...</td>\n",
       "      <td>🎶💃🕺😁🌃🌙☺️</td>\n",
       "      <td>activities</td>\n",
       "    </tr>\n",
       "    <tr>\n",
       "      <th>1603</th>\n",
       "      <td>1603</td>\n",
       "      <td>Indulge in some of the finest cuisine while ex...</td>\n",
       "      <td>🍣🍜🦐🏰⛰️🏞️🏖️🇫🇷</td>\n",
       "      <td>country</td>\n",
       "    </tr>\n",
       "    <tr>\n",
       "      <th>1604</th>\n",
       "      <td>1604</td>\n",
       "      <td>A perfectly cooked steak with a side of mash a...</td>\n",
       "      <td>🥩🔥👌🏽🥔🥕🍴💫🌃</td>\n",
       "      <td>food</td>\n",
       "    </tr>\n",
       "  </tbody>\n",
       "</table>\n",
       "</div>"
      ],
      "text/plain": [
       "      Unnamed: 0                                               text  \\\n",
       "1600        1600  Off-roading with my Jeep is the ultimate adren...   \n",
       "1601        1601  The charming little daisy symbolizes youth, in...   \n",
       "1602        1602  Nothing makes me happier than dancing to my fa...   \n",
       "1603        1603  Indulge in some of the finest cuisine while ex...   \n",
       "1604        1604  A perfectly cooked steak with a side of mash a...   \n",
       "\n",
       "             emoji       topic  \n",
       "1600       🌄🚙🏃💨🕹️🌵     vehicle  \n",
       "1601    🌼🌿🌟⁉️🧒🕊️💗💦       plant  \n",
       "1602      🎶💃🕺😁🌃🌙☺️  activities  \n",
       "1603  🍣🍜🦐🏰⛰️🏞️🏖️🇫🇷     country  \n",
       "1604     🥩🔥👌🏽🥔🥕🍴💫🌃        food  "
      ]
     },
     "execution_count": 11,
     "metadata": {},
     "output_type": "execute_result"
    }
   ],
   "source": [
    "number = 1600\n",
    "\n",
    "df[number:number+5]"
   ]
  }
 ],
 "metadata": {
  "kernelspec": {
   "display_name": "Python 3",
   "language": "python",
   "name": "python3"
  },
  "language_info": {
   "codemirror_mode": {
    "name": "ipython",
    "version": 3
   },
   "file_extension": ".py",
   "mimetype": "text/x-python",
   "name": "python",
   "nbconvert_exporter": "python",
   "pygments_lexer": "ipython3",
   "version": "3.10.12"
  }
 },
 "nbformat": 4,
 "nbformat_minor": 2
}
