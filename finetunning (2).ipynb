{
 "cells": [
  {
   "cell_type": "markdown",
   "source": [
    "# Fine-Tuning "
   ],
   "metadata": {
    "collapsed": false
   },
   "id": "7058ee5a1c65ac5f"
  },
  {
   "cell_type": "code",
   "outputs": [
    {
     "name": "stdout",
     "output_type": "stream",
     "text": [
      "[\"Mat's childhood took place in a little African village in south Botswana\", 'Conduct of the Persian Gulf War: Final Report to the Congress', 'It is even more striking that both EFhd2 and tau exhibit F-actin-bundling activity', 'Obesity leads to insulin resistance', 'The menstrual period']\n",
      "['where he was initiated to sacred dancings and musical habits of Congalaabawanaa.,🌍👦🏾🏝️🌍🎶🥁🕺🏾', 'Appendix C: Intelligence, April 1992. back to article 2.,🔍📚', 'that actin dynamics are altered in tauopathies and that EFhd2 was found in synapses [6,7].,😮\\u200d💨🔝🚶\\u200d♂️👀🔍🤍🦠🏼📏🔗🩺🏢🥱💫🛠🧬🔄🔬🍃😶\\u200d🌠🐇🔝🎑🔓📘', 'high blood pressure and ultimately to heart disease.,❤️🔺💔', \"a metaphor alluding to sexual-abstinence . ',🩸🔴😅🚫💑\"]\n"
     ]
    }
   ],
   "source": [
    "# Завантаження даних з txt з вказаним кодуванням utf-8\n",
    "with open('data/gpt_translate_2.txt', 'r', encoding='utf-8') as f:\n",
    "    data = f.readlines()\n",
    "\n",
    "# Ініціалізуємо списки для текстів та емоджі\n",
    "texts = []\n",
    "labels = []\n",
    "\n",
    "# Обробляємо кожен рядок\n",
    "for line in data:\n",
    "    # Перевіряємо, чи є розділення\n",
    "    if ' ,' in line:\n",
    "        text, emoji = line.split(' ,', 1)  # Розділяємо тільки перший раз\n",
    "        texts.append(text.strip())  # Текст до емоджі\n",
    "        labels.append(emoji.strip())  # Емоджі після коми\n",
    "\n",
    "# Перевіримо перші кілька записів\n",
    "print(texts[:5])\n",
    "print(labels[:5])\n"
   ],
   "metadata": {
    "collapsed": false,
    "ExecuteTime": {
     "end_time": "2024-12-18T15:35:03.041348800Z",
     "start_time": "2024-12-18T15:35:02.747806700Z"
    }
   },
   "id": "daffba80c60d5987",
   "execution_count": 13
  },
  {
   "cell_type": "code",
   "outputs": [],
   "source": [
    "from transformers import BertTokenizer\n",
    "from sklearn.model_selection import train_test_split\n",
    "import torch\n",
    "from torch.utils.data import DataLoader, TensorDataset\n",
    "\n",
    "# Завантажуємо токенізатор\n",
    "tokenizer = BertTokenizer.from_pretrained('bert-base-uncased')\n",
    "\n",
    "# Токенізація текстів\n",
    "encoding = tokenizer(texts, truncation=True, padding=True, max_length=128)\n",
    "\n",
    "# Перетворюємо емоджі в числові мітки\n",
    "emoji_labels = list(set(labels))  # Унікальні емоджі\n",
    "label_map = {emoji: idx for idx, emoji in enumerate(emoji_labels)}\n",
    "\n",
    "# Заміна емоджі на їх числові мітки\n",
    "labels_numeric = [label_map[label] for label in labels]\n",
    "\n",
    "# Розділення на тренувальний і валідаційний набори\n",
    "train_texts, val_texts, train_labels, val_labels = train_test_split(encoding['input_ids'], labels_numeric, test_size=0.2)\n",
    "\n",
    "# Конвертуємо в Torch Tensor\n",
    "train_inputs = torch.tensor(train_texts)\n",
    "val_inputs = torch.tensor(val_texts)\n",
    "train_labels = torch.tensor(train_labels)\n",
    "val_labels = torch.tensor(val_labels)\n",
    "\n",
    "# Створення DataLoader для тренування\n",
    "train_data = TensorDataset(train_inputs, train_labels)\n",
    "val_data = TensorDataset(val_inputs, val_labels)\n",
    "\n",
    "train_dataloader = DataLoader(train_data, batch_size=16, shuffle=True)\n",
    "val_dataloader = DataLoader(val_data, batch_size=16)\n"
   ],
   "metadata": {
    "collapsed": false,
    "ExecuteTime": {
     "end_time": "2024-12-18T15:35:03.358990100Z",
     "start_time": "2024-12-18T15:35:02.948452800Z"
    }
   },
   "id": "ca32616b1a2d80ed",
   "execution_count": 14
  },
  {
   "cell_type": "code",
   "outputs": [
    {
     "name": "stderr",
     "output_type": "stream",
     "text": [
      "Some weights of BertForSequenceClassification were not initialized from the model checkpoint at bert-base-uncased and are newly initialized: ['classifier.bias', 'classifier.weight']\n",
      "You should probably TRAIN this model on a down-stream task to be able to use it for predictions and inference.\n"
     ]
    },
    {
     "name": "stdout",
     "output_type": "stream",
     "text": [
      "Epoch 1\n",
      "Training loss: 4.591485595703125\n",
      "Epoch 2\n",
      "Training loss: 4.586425018310547\n",
      "Epoch 3\n",
      "Training loss: 4.561312961578369\n"
     ]
    }
   ],
   "source": [
    "from transformers import BertForSequenceClassification\n",
    "from torch.optim import AdamW\n",
    "\n",
    "# Завантажуємо модель BERT для класифікації\n",
    "model = BertForSequenceClassification.from_pretrained('bert-base-uncased', num_labels=len(label_map))\n",
    "\n",
    "# Оптимізатор\n",
    "optimizer = AdamW(model.parameters(), lr=1e-5)\n",
    "\n",
    "# Функція тренування\n",
    "def train(model, train_dataloader):\n",
    "    model.train()\n",
    "    total_loss = 0\n",
    "    for batch in train_dataloader:\n",
    "        input_ids, labels = batch\n",
    "        optimizer.zero_grad()\n",
    "\n",
    "        # Прямий прохід\n",
    "        outputs = model(input_ids, labels=labels)\n",
    "        loss = outputs.loss\n",
    "        loss.backward()\n",
    "\n",
    "        optimizer.step()\n",
    "        total_loss += loss.item()\n",
    "    print(f\"Training loss: {total_loss / len(train_dataloader)}\")\n",
    "\n",
    "# Тренуємо модель\n",
    "for epoch in range(3):  # Змінити кількість епох за необхідності\n",
    "    print(f\"Epoch {epoch + 1}\")\n",
    "    train(model, train_dataloader)\n"
   ],
   "metadata": {
    "collapsed": false,
    "ExecuteTime": {
     "end_time": "2024-12-18T15:36:32.725867200Z",
     "start_time": "2024-12-18T15:35:03.182115500Z"
    }
   },
   "id": "7cb20ecf9ff75547",
   "execution_count": 15
  },
  {
   "cell_type": "code",
   "outputs": [
    {
     "data": {
      "text/plain": "('path_to_save_model\\\\tokenizer_config.json',\n 'path_to_save_model\\\\special_tokens_map.json',\n 'path_to_save_model\\\\vocab.txt',\n 'path_to_save_model\\\\added_tokens.json')"
     },
     "execution_count": 16,
     "metadata": {},
     "output_type": "execute_result"
    }
   ],
   "source": [
    "# Збереження моделі та токенізатора\n",
    "model.save_pretrained('path_to_save_model')\n",
    "tokenizer.save_pretrained('path_to_save_model')\n"
   ],
   "metadata": {
    "collapsed": false,
    "ExecuteTime": {
     "end_time": "2024-12-18T15:36:33.597325800Z",
     "start_time": "2024-12-18T15:36:32.680088100Z"
    }
   },
   "id": "f7b21cd15969f245",
   "execution_count": 16
  },
  {
   "cell_type": "code",
   "outputs": [
    {
     "name": "stdout",
     "output_type": "stream",
     "text": [
      "tensor([44])\n"
     ]
    }
   ],
   "source": [
    "# Завантажуємо збережену модель\n",
    "model = BertForSequenceClassification.from_pretrained('path_to_save_model')\n",
    "tokenizer = BertTokenizer.from_pretrained('path_to_save_model')\n",
    "\n",
    "# Використання моделі для передбачень\n",
    "inputs = tokenizer(\"Some text to predict\", return_tensors='pt')\n",
    "outputs = model(**inputs)\n",
    "\n",
    "# Отримання результату\n",
    "predictions = outputs.logits.argmax(dim=-1)\n",
    "print(predictions)\n"
   ],
   "metadata": {
    "collapsed": false,
    "ExecuteTime": {
     "end_time": "2024-12-18T15:36:34.178347800Z",
     "start_time": "2024-12-18T15:36:33.564911400Z"
    }
   },
   "id": "356d47a43f354ddc",
   "execution_count": 17
  },
  {
   "cell_type": "code",
   "outputs": [
    {
     "name": "stderr",
     "output_type": "stream",
     "text": [
      "Some weights of BertForSequenceClassification were not initialized from the model checkpoint at bert-base-uncased and are newly initialized: ['classifier.bias', 'classifier.weight']\n",
      "You should probably TRAIN this model on a down-stream task to be able to use it for predictions and inference.\n"
     ]
    },
    {
     "name": "stdout",
     "output_type": "stream",
     "text": [
      "Epoch 1 - Training loss: 4.600806045532226\n",
      "Epoch 1 - Validation loss: 4.570686340332031 - Accuracy: 0.0\n",
      "Epoch 2 - Training loss: 4.553167629241943\n",
      "Epoch 2 - Validation loss: 4.659895658493042 - Accuracy: 0.0\n",
      "Epoch 3 - Training loss: 4.5578405380249025\n",
      "Epoch 3 - Validation loss: 4.667123079299927 - Accuracy: 0.0\n"
     ]
    },
    {
     "ename": "SafetensorError",
     "evalue": "Error while serializing: IoError(Os { code: 1224, kind: Uncategorized, message: \"The requested operation cannot be performed on a file with a user-mapped section open.\" })",
     "output_type": "error",
     "traceback": [
      "\u001B[1;31m---------------------------------------------------------------------------\u001B[0m",
      "\u001B[1;31mSafetensorError\u001B[0m                           Traceback (most recent call last)",
      "Cell \u001B[1;32mIn[19], line 104\u001B[0m\n\u001B[0;32m    101\u001B[0m train(model, train_dataloader, val_dataloader, optimizer, epochs\u001B[38;5;241m=\u001B[39m\u001B[38;5;241m3\u001B[39m)\n\u001B[0;32m    103\u001B[0m \u001B[38;5;66;03m# Збереження моделі та токенізатора\u001B[39;00m\n\u001B[1;32m--> 104\u001B[0m \u001B[43mmodel\u001B[49m\u001B[38;5;241;43m.\u001B[39;49m\u001B[43msave_pretrained\u001B[49m\u001B[43m(\u001B[49m\u001B[38;5;124;43m'\u001B[39;49m\u001B[38;5;124;43mpath_to_save_model\u001B[39;49m\u001B[38;5;124;43m'\u001B[39;49m\u001B[43m)\u001B[49m\n\u001B[0;32m    105\u001B[0m tokenizer\u001B[38;5;241m.\u001B[39msave_pretrained(\u001B[38;5;124m'\u001B[39m\u001B[38;5;124mpath_to_save_model\u001B[39m\u001B[38;5;124m'\u001B[39m)\n\u001B[0;32m    107\u001B[0m \u001B[38;5;66;03m# Завантажуємо збережену модель для подальших передбачень\u001B[39;00m\n",
      "File \u001B[1;32m~\\AppData\\Local\\Programs\\Python\\Python312\\Lib\\site-packages\\transformers\\modeling_utils.py:3034\u001B[0m, in \u001B[0;36mPreTrainedModel.save_pretrained\u001B[1;34m(self, save_directory, is_main_process, state_dict, save_function, push_to_hub, max_shard_size, safe_serialization, variant, token, save_peft_format, **kwargs)\u001B[0m\n\u001B[0;32m   3029\u001B[0m     gc\u001B[38;5;241m.\u001B[39mcollect()\n\u001B[0;32m   3031\u001B[0m \u001B[38;5;28;01mif\u001B[39;00m safe_serialization:\n\u001B[0;32m   3032\u001B[0m     \u001B[38;5;66;03m# At some point we will need to deal better with save_function (used for TPU and other distributed\u001B[39;00m\n\u001B[0;32m   3033\u001B[0m     \u001B[38;5;66;03m# joyfulness), but for now this enough.\u001B[39;00m\n\u001B[1;32m-> 3034\u001B[0m     \u001B[43msafe_save_file\u001B[49m\u001B[43m(\u001B[49m\u001B[43mshard\u001B[49m\u001B[43m,\u001B[49m\u001B[43m \u001B[49m\u001B[43mos\u001B[49m\u001B[38;5;241;43m.\u001B[39;49m\u001B[43mpath\u001B[49m\u001B[38;5;241;43m.\u001B[39;49m\u001B[43mjoin\u001B[49m\u001B[43m(\u001B[49m\u001B[43msave_directory\u001B[49m\u001B[43m,\u001B[49m\u001B[43m \u001B[49m\u001B[43mshard_file\u001B[49m\u001B[43m)\u001B[49m\u001B[43m,\u001B[49m\u001B[43m \u001B[49m\u001B[43mmetadata\u001B[49m\u001B[38;5;241;43m=\u001B[39;49m\u001B[43m{\u001B[49m\u001B[38;5;124;43m\"\u001B[39;49m\u001B[38;5;124;43mformat\u001B[39;49m\u001B[38;5;124;43m\"\u001B[39;49m\u001B[43m:\u001B[49m\u001B[43m \u001B[49m\u001B[38;5;124;43m\"\u001B[39;49m\u001B[38;5;124;43mpt\u001B[39;49m\u001B[38;5;124;43m\"\u001B[39;49m\u001B[43m}\u001B[49m\u001B[43m)\u001B[49m\n\u001B[0;32m   3035\u001B[0m \u001B[38;5;28;01melse\u001B[39;00m:\n\u001B[0;32m   3036\u001B[0m     save_function(shard, os\u001B[38;5;241m.\u001B[39mpath\u001B[38;5;241m.\u001B[39mjoin(save_directory, shard_file))\n",
      "File \u001B[1;32m~\\AppData\\Local\\Programs\\Python\\Python312\\Lib\\site-packages\\safetensors\\torch.py:286\u001B[0m, in \u001B[0;36msave_file\u001B[1;34m(tensors, filename, metadata)\u001B[0m\n\u001B[0;32m    255\u001B[0m \u001B[38;5;28;01mdef\u001B[39;00m \u001B[38;5;21msave_file\u001B[39m(\n\u001B[0;32m    256\u001B[0m     tensors: Dict[\u001B[38;5;28mstr\u001B[39m, torch\u001B[38;5;241m.\u001B[39mTensor],\n\u001B[0;32m    257\u001B[0m     filename: Union[\u001B[38;5;28mstr\u001B[39m, os\u001B[38;5;241m.\u001B[39mPathLike],\n\u001B[0;32m    258\u001B[0m     metadata: Optional[Dict[\u001B[38;5;28mstr\u001B[39m, \u001B[38;5;28mstr\u001B[39m]] \u001B[38;5;241m=\u001B[39m \u001B[38;5;28;01mNone\u001B[39;00m,\n\u001B[0;32m    259\u001B[0m ):\n\u001B[0;32m    260\u001B[0m \u001B[38;5;250m    \u001B[39m\u001B[38;5;124;03m\"\"\"\u001B[39;00m\n\u001B[0;32m    261\u001B[0m \u001B[38;5;124;03m    Saves a dictionary of tensors into raw bytes in safetensors format.\u001B[39;00m\n\u001B[0;32m    262\u001B[0m \n\u001B[1;32m   (...)\u001B[0m\n\u001B[0;32m    284\u001B[0m \u001B[38;5;124;03m    ```\u001B[39;00m\n\u001B[0;32m    285\u001B[0m \u001B[38;5;124;03m    \"\"\"\u001B[39;00m\n\u001B[1;32m--> 286\u001B[0m     \u001B[43mserialize_file\u001B[49m\u001B[43m(\u001B[49m\u001B[43m_flatten\u001B[49m\u001B[43m(\u001B[49m\u001B[43mtensors\u001B[49m\u001B[43m)\u001B[49m\u001B[43m,\u001B[49m\u001B[43m \u001B[49m\u001B[43mfilename\u001B[49m\u001B[43m,\u001B[49m\u001B[43m \u001B[49m\u001B[43mmetadata\u001B[49m\u001B[38;5;241;43m=\u001B[39;49m\u001B[43mmetadata\u001B[49m\u001B[43m)\u001B[49m\n",
      "\u001B[1;31mSafetensorError\u001B[0m: Error while serializing: IoError(Os { code: 1224, kind: Uncategorized, message: \"The requested operation cannot be performed on a file with a user-mapped section open.\" })"
     ]
    }
   ],
   "source": [
    "# Завантаження необхідних бібліотек\n",
    "import torch\n",
    "from torch.utils.data import DataLoader, TensorDataset\n",
    "from transformers import BertForSequenceClassification, BertTokenizer\n",
    "from torch.optim import AdamW\n",
    "from sklearn.model_selection import train_test_split\n",
    "\n",
    "# Завантаження даних з txt\n",
    "with open('data/gpt_translate_2.txt', 'r', encoding='utf-8') as f:\n",
    "    data = f.readlines()\n",
    "\n",
    "texts = []\n",
    "labels = []\n",
    "\n",
    "# Обробка даних\n",
    "for line in data:\n",
    "    if ' ,' in line:\n",
    "        text, emoji = line.split(' ,', 1)  # Розділення\n",
    "        texts.append(text.strip())\n",
    "        labels.append(emoji.strip())\n",
    "\n",
    "# Токенізація\n",
    "tokenizer = BertTokenizer.from_pretrained('bert-base-uncased')\n",
    "encoding = tokenizer(texts, truncation=True, padding=True, max_length=128)\n",
    "\n",
    "# Перетворення емоджі в числові мітки\n",
    "emoji_labels = list(set(labels))  # Унікальні емоджі\n",
    "label_map = {emoji: idx for idx, emoji in enumerate(emoji_labels)}\n",
    "labels_numeric = [label_map[label] for label in labels]\n",
    "\n",
    "# Розділення на тренувальний і валідаційний набори\n",
    "train_texts, val_texts, train_labels, val_labels = train_test_split(encoding['input_ids'], labels_numeric, test_size=0.2)\n",
    "\n",
    "# Перетворення в Torch Tensor\n",
    "train_inputs = torch.tensor(train_texts)\n",
    "val_inputs = torch.tensor(val_texts)\n",
    "train_labels = torch.tensor(train_labels)\n",
    "val_labels = torch.tensor(val_labels)\n",
    "\n",
    "# Створення DataLoader\n",
    "train_data = TensorDataset(train_inputs, train_labels)\n",
    "val_data = TensorDataset(val_inputs, val_labels)\n",
    "\n",
    "train_dataloader = DataLoader(train_data, batch_size=16, shuffle=True)\n",
    "val_dataloader = DataLoader(val_data, batch_size=16)\n",
    "\n",
    "# Завантаження моделі\n",
    "model = BertForSequenceClassification.from_pretrained('bert-base-uncased', num_labels=len(label_map))\n",
    "\n",
    "# Оптимізатор\n",
    "optimizer = AdamW(model.parameters(), lr=1e-5)\n",
    "\n",
    "# Функція для тренування з валідацією\n",
    "def train(model, train_dataloader, val_dataloader, optimizer, epochs=3):\n",
    "    device = torch.device('cuda' if torch.cuda.is_available() else 'cpu')\n",
    "    model.to(device)\n",
    "\n",
    "    for epoch in range(epochs):\n",
    "        model.train()\n",
    "        total_train_loss = 0\n",
    "        for batch in train_dataloader:\n",
    "            input_ids, labels = batch\n",
    "            input_ids, labels = input_ids.to(device), labels.to(device)\n",
    "            optimizer.zero_grad()\n",
    "\n",
    "            # Прямий прохід\n",
    "            outputs = model(input_ids, labels=labels)\n",
    "            loss = outputs.loss\n",
    "            loss.backward()\n",
    "\n",
    "            optimizer.step()\n",
    "            total_train_loss += loss.item()\n",
    "\n",
    "        avg_train_loss = total_train_loss / len(train_dataloader)\n",
    "        print(f\"Epoch {epoch + 1} - Training loss: {avg_train_loss}\")\n",
    "\n",
    "        # Оцінка на валідаційному наборі\n",
    "        model.eval()\n",
    "        total_val_loss = 0\n",
    "        correct_preds = 0\n",
    "        total_preds = 0\n",
    "        with torch.no_grad():\n",
    "            for batch in val_dataloader:\n",
    "                input_ids, labels = batch\n",
    "                input_ids, labels = input_ids.to(device), labels.to(device)\n",
    "\n",
    "                outputs = model(input_ids, labels=labels)\n",
    "                loss = outputs.loss\n",
    "                total_val_loss += loss.item()\n",
    "\n",
    "                # Оцінка точності\n",
    "                preds = outputs.logits.argmax(dim=-1)\n",
    "                correct_preds += (preds == labels).sum().item()\n",
    "                total_preds += labels.size(0)\n",
    "\n",
    "        avg_val_loss = total_val_loss / len(val_dataloader)\n",
    "        accuracy = correct_preds / total_preds\n",
    "        print(f\"Epoch {epoch + 1} - Validation loss: {avg_val_loss} - Accuracy: {accuracy}\")\n",
    "\n",
    "# Тренуємо модель\n",
    "train(model, train_dataloader, val_dataloader, optimizer, epochs=3)\n",
    "\n",
    "# Збереження моделі та токенізатора\n",
    "model.save_pretrained('path_to_save_model')\n",
    "tokenizer.save_pretrained('path_to_save_model')\n",
    "\n",
    "# Завантажуємо збережену модель для подальших передбачень\n",
    "model = BertForSequenceClassification.from_pretrained('path_to_save_model')\n",
    "tokenizer = BertTokenizer.from_pretrained('path_to_save_model')\n",
    "\n",
    "# Використання моделі для передбачень\n",
    "inputs = tokenizer(\"Some text to predict\", return_tensors='pt')\n",
    "outputs = model(**inputs)\n",
    "\n",
    "# Отримання результату\n",
    "predictions = outputs.logits.argmax(dim=-1)\n",
    "print(predictions)\n"
   ],
   "metadata": {
    "collapsed": false,
    "ExecuteTime": {
     "end_time": "2024-12-18T15:44:10.302609400Z",
     "start_time": "2024-12-18T15:43:02.218833800Z"
    }
   },
   "id": "46eb955bd29f0959",
   "execution_count": 19
  }
 ],
 "metadata": {
  "kernelspec": {
   "display_name": "Python 3",
   "language": "python",
   "name": "python3"
  },
  "language_info": {
   "codemirror_mode": {
    "name": "ipython",
    "version": 2
   },
   "file_extension": ".py",
   "mimetype": "text/x-python",
   "name": "python",
   "nbconvert_exporter": "python",
   "pygments_lexer": "ipython2",
   "version": "2.7.6"
  }
 },
 "nbformat": 4,
 "nbformat_minor": 5
}
